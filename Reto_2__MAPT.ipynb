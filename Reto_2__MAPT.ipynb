{
  "nbformat": 4,
  "nbformat_minor": 0,
  "metadata": {
    "colab": {
      "provenance": [],
      "include_colab_link": true
    },
    "kernelspec": {
      "name": "python3",
      "display_name": "Python 3"
    },
    "language_info": {
      "name": "python"
    }
  },
  "cells": [
    {
      "cell_type": "markdown",
      "metadata": {
        "id": "view-in-github",
        "colab_type": "text"
      },
      "source": [
        "<a href=\"https://colab.research.google.com/github/marialejandrapulido1/analitica-negocios/blob/main/Reto_2__MAPT.ipynb\" target=\"_parent\"><img src=\"https://colab.research.google.com/assets/colab-badge.svg\" alt=\"Open In Colab\"/></a>"
      ]
    },
    {
      "cell_type": "markdown",
      "source": [
        "# **Maria Alejandra Pulido**\n",
        "\n",
        "Reto 2 - Árboles de decisión"
      ],
      "metadata": {
        "id": "COtG8RFoyQeX"
      }
    },
    {
      "cell_type": "markdown",
      "source": [
        "*Cargar librerías de trabajo*"
      ],
      "metadata": {
        "id": "ItKf6-B5uEqt"
      }
    },
    {
      "cell_type": "code",
      "execution_count": null,
      "metadata": {
        "id": "GNcRvcf4sw4j",
        "colab": {
          "base_uri": "https://localhost:8080/"
        },
        "outputId": "f13ea2f9-da25-48e1-c501-2f2b7b3e50a4"
      },
      "outputs": [
        {
          "output_type": "stream",
          "name": "stdout",
          "text": [
            "Mounted at /content/drive\n"
          ]
        }
      ],
      "source": [
        "#libreria que conecta con excel\n",
        "import numpy as np\n",
        "#libreria con funciones numericas\n",
        "import pandas as pd\n",
        "\n",
        "#implementacion y evaluacion del modelo\n",
        "#para crear arbol de decision\n",
        "from sklearn.tree import DecisionTreeClassifier\n",
        "#para analizar modelo\n",
        "from sklearn.metrics import confusion_matrix\n",
        "\n",
        "#cargar automaticamente los archivos de drive\n",
        "from google.colab import drive\n",
        "drive.mount('/content/drive')"
      ]
    },
    {
      "cell_type": "markdown",
      "source": [
        "*Cargar base de datos*"
      ],
      "metadata": {
        "id": "05MCOFOIvG8a"
      }
    },
    {
      "cell_type": "code",
      "source": [
        "drive = '/content/drive/MyDrive/ANALITICA/2. TechSalesReport_Int_L.xlsx'\n",
        "#XDB = X database\n",
        "XDB = pd.read_excel(drive, sheet_name = 0)\n",
        "#confirmar si es el archivo correcto\n",
        "XDB.head(4)\n",
        "\n",
        "#eliminar variable sales rep\n",
        "XDB = XDB.drop(['Sales_Rep'], axis = 1)\n",
        "\n",
        "#eliminar variable personality\n",
        "XDB = XDB.drop(['Personality'], axis = 1)\n",
        "\n",
        "#convertir business a valores numéricos\n",
        "XDB['Business'] = XDB['Business'].map({'Hardware': 0, 'Software': 1})\n",
        "\n",
        "#organizar college en yes - 1 y no - 0\n",
        "XDB['College'] = XDB['College'].map({'No': 0, 'Yes': 1})\n",
        "\n",
        "#seleccionar las variables que necesito\n",
        "#vector con variables que necesito\n",
        "XD = XDB[['Business', 'Age', 'Female', 'Years', 'Certificates', 'Feedback', 'Salary', 'NPS']]\n",
        "\n",
        "#vector que quiero pronosticar - college\n",
        "yd = XDB[['College']]\n",
        "\n",
        "#revisar si quedo bien\n",
        "XDB.head(4)"
      ],
      "metadata": {
        "id": "Fhij44XvvIPi",
        "colab": {
          "base_uri": "https://localhost:8080/",
          "height": 173
        },
        "outputId": "9ef0b89c-4724-495d-8b78-29bc4f301e9d"
      },
      "execution_count": null,
      "outputs": [
        {
          "output_type": "execute_result",
          "data": {
            "text/plain": [
              "   Business  Age  Female  Years  College  Certificates  Feedback  Salary  NPS\n",
              "0         0   59       1      2        1             1      2.01   70200    5\n",
              "1         0   52       0     10        1             4      3.64  133000   10\n",
              "2         1   47       1      1        1             1      3.88   52600    8\n",
              "3         0   61       0      2        1             3      2.70   96000    6"
            ],
            "text/html": [
              "\n",
              "  <div id=\"df-fc6ebfae-70cc-4307-9cb4-6faae9948ec2\" class=\"colab-df-container\">\n",
              "    <div>\n",
              "<style scoped>\n",
              "    .dataframe tbody tr th:only-of-type {\n",
              "        vertical-align: middle;\n",
              "    }\n",
              "\n",
              "    .dataframe tbody tr th {\n",
              "        vertical-align: top;\n",
              "    }\n",
              "\n",
              "    .dataframe thead th {\n",
              "        text-align: right;\n",
              "    }\n",
              "</style>\n",
              "<table border=\"1\" class=\"dataframe\">\n",
              "  <thead>\n",
              "    <tr style=\"text-align: right;\">\n",
              "      <th></th>\n",
              "      <th>Business</th>\n",
              "      <th>Age</th>\n",
              "      <th>Female</th>\n",
              "      <th>Years</th>\n",
              "      <th>College</th>\n",
              "      <th>Certificates</th>\n",
              "      <th>Feedback</th>\n",
              "      <th>Salary</th>\n",
              "      <th>NPS</th>\n",
              "    </tr>\n",
              "  </thead>\n",
              "  <tbody>\n",
              "    <tr>\n",
              "      <th>0</th>\n",
              "      <td>0</td>\n",
              "      <td>59</td>\n",
              "      <td>1</td>\n",
              "      <td>2</td>\n",
              "      <td>1</td>\n",
              "      <td>1</td>\n",
              "      <td>2.01</td>\n",
              "      <td>70200</td>\n",
              "      <td>5</td>\n",
              "    </tr>\n",
              "    <tr>\n",
              "      <th>1</th>\n",
              "      <td>0</td>\n",
              "      <td>52</td>\n",
              "      <td>0</td>\n",
              "      <td>10</td>\n",
              "      <td>1</td>\n",
              "      <td>4</td>\n",
              "      <td>3.64</td>\n",
              "      <td>133000</td>\n",
              "      <td>10</td>\n",
              "    </tr>\n",
              "    <tr>\n",
              "      <th>2</th>\n",
              "      <td>1</td>\n",
              "      <td>47</td>\n",
              "      <td>1</td>\n",
              "      <td>1</td>\n",
              "      <td>1</td>\n",
              "      <td>1</td>\n",
              "      <td>3.88</td>\n",
              "      <td>52600</td>\n",
              "      <td>8</td>\n",
              "    </tr>\n",
              "    <tr>\n",
              "      <th>3</th>\n",
              "      <td>0</td>\n",
              "      <td>61</td>\n",
              "      <td>0</td>\n",
              "      <td>2</td>\n",
              "      <td>1</td>\n",
              "      <td>3</td>\n",
              "      <td>2.70</td>\n",
              "      <td>96000</td>\n",
              "      <td>6</td>\n",
              "    </tr>\n",
              "  </tbody>\n",
              "</table>\n",
              "</div>\n",
              "    <div class=\"colab-df-buttons\">\n",
              "\n",
              "  <div class=\"colab-df-container\">\n",
              "    <button class=\"colab-df-convert\" onclick=\"convertToInteractive('df-fc6ebfae-70cc-4307-9cb4-6faae9948ec2')\"\n",
              "            title=\"Convert this dataframe to an interactive table.\"\n",
              "            style=\"display:none;\">\n",
              "\n",
              "  <svg xmlns=\"http://www.w3.org/2000/svg\" height=\"24px\" viewBox=\"0 -960 960 960\">\n",
              "    <path d=\"M120-120v-720h720v720H120Zm60-500h600v-160H180v160Zm220 220h160v-160H400v160Zm0 220h160v-160H400v160ZM180-400h160v-160H180v160Zm440 0h160v-160H620v160ZM180-180h160v-160H180v160Zm440 0h160v-160H620v160Z\"/>\n",
              "  </svg>\n",
              "    </button>\n",
              "\n",
              "  <style>\n",
              "    .colab-df-container {\n",
              "      display:flex;\n",
              "      gap: 12px;\n",
              "    }\n",
              "\n",
              "    .colab-df-convert {\n",
              "      background-color: #E8F0FE;\n",
              "      border: none;\n",
              "      border-radius: 50%;\n",
              "      cursor: pointer;\n",
              "      display: none;\n",
              "      fill: #1967D2;\n",
              "      height: 32px;\n",
              "      padding: 0 0 0 0;\n",
              "      width: 32px;\n",
              "    }\n",
              "\n",
              "    .colab-df-convert:hover {\n",
              "      background-color: #E2EBFA;\n",
              "      box-shadow: 0px 1px 2px rgba(60, 64, 67, 0.3), 0px 1px 3px 1px rgba(60, 64, 67, 0.15);\n",
              "      fill: #174EA6;\n",
              "    }\n",
              "\n",
              "    .colab-df-buttons div {\n",
              "      margin-bottom: 4px;\n",
              "    }\n",
              "\n",
              "    [theme=dark] .colab-df-convert {\n",
              "      background-color: #3B4455;\n",
              "      fill: #D2E3FC;\n",
              "    }\n",
              "\n",
              "    [theme=dark] .colab-df-convert:hover {\n",
              "      background-color: #434B5C;\n",
              "      box-shadow: 0px 1px 3px 1px rgba(0, 0, 0, 0.15);\n",
              "      filter: drop-shadow(0px 1px 2px rgba(0, 0, 0, 0.3));\n",
              "      fill: #FFFFFF;\n",
              "    }\n",
              "  </style>\n",
              "\n",
              "    <script>\n",
              "      const buttonEl =\n",
              "        document.querySelector('#df-fc6ebfae-70cc-4307-9cb4-6faae9948ec2 button.colab-df-convert');\n",
              "      buttonEl.style.display =\n",
              "        google.colab.kernel.accessAllowed ? 'block' : 'none';\n",
              "\n",
              "      async function convertToInteractive(key) {\n",
              "        const element = document.querySelector('#df-fc6ebfae-70cc-4307-9cb4-6faae9948ec2');\n",
              "        const dataTable =\n",
              "          await google.colab.kernel.invokeFunction('convertToInteractive',\n",
              "                                                    [key], {});\n",
              "        if (!dataTable) return;\n",
              "\n",
              "        const docLinkHtml = 'Like what you see? Visit the ' +\n",
              "          '<a target=\"_blank\" href=https://colab.research.google.com/notebooks/data_table.ipynb>data table notebook</a>'\n",
              "          + ' to learn more about interactive tables.';\n",
              "        element.innerHTML = '';\n",
              "        dataTable['output_type'] = 'display_data';\n",
              "        await google.colab.output.renderOutput(dataTable, element);\n",
              "        const docLink = document.createElement('div');\n",
              "        docLink.innerHTML = docLinkHtml;\n",
              "        element.appendChild(docLink);\n",
              "      }\n",
              "    </script>\n",
              "  </div>\n",
              "\n",
              "\n",
              "<div id=\"df-fef0f2a6-10df-49dd-ab9d-42387e035747\">\n",
              "  <button class=\"colab-df-quickchart\" onclick=\"quickchart('df-fef0f2a6-10df-49dd-ab9d-42387e035747')\"\n",
              "            title=\"Suggest charts\"\n",
              "            style=\"display:none;\">\n",
              "\n",
              "<svg xmlns=\"http://www.w3.org/2000/svg\" height=\"24px\"viewBox=\"0 0 24 24\"\n",
              "     width=\"24px\">\n",
              "    <g>\n",
              "        <path d=\"M19 3H5c-1.1 0-2 .9-2 2v14c0 1.1.9 2 2 2h14c1.1 0 2-.9 2-2V5c0-1.1-.9-2-2-2zM9 17H7v-7h2v7zm4 0h-2V7h2v10zm4 0h-2v-4h2v4z\"/>\n",
              "    </g>\n",
              "</svg>\n",
              "  </button>\n",
              "\n",
              "<style>\n",
              "  .colab-df-quickchart {\n",
              "      --bg-color: #E8F0FE;\n",
              "      --fill-color: #1967D2;\n",
              "      --hover-bg-color: #E2EBFA;\n",
              "      --hover-fill-color: #174EA6;\n",
              "      --disabled-fill-color: #AAA;\n",
              "      --disabled-bg-color: #DDD;\n",
              "  }\n",
              "\n",
              "  [theme=dark] .colab-df-quickchart {\n",
              "      --bg-color: #3B4455;\n",
              "      --fill-color: #D2E3FC;\n",
              "      --hover-bg-color: #434B5C;\n",
              "      --hover-fill-color: #FFFFFF;\n",
              "      --disabled-bg-color: #3B4455;\n",
              "      --disabled-fill-color: #666;\n",
              "  }\n",
              "\n",
              "  .colab-df-quickchart {\n",
              "    background-color: var(--bg-color);\n",
              "    border: none;\n",
              "    border-radius: 50%;\n",
              "    cursor: pointer;\n",
              "    display: none;\n",
              "    fill: var(--fill-color);\n",
              "    height: 32px;\n",
              "    padding: 0;\n",
              "    width: 32px;\n",
              "  }\n",
              "\n",
              "  .colab-df-quickchart:hover {\n",
              "    background-color: var(--hover-bg-color);\n",
              "    box-shadow: 0 1px 2px rgba(60, 64, 67, 0.3), 0 1px 3px 1px rgba(60, 64, 67, 0.15);\n",
              "    fill: var(--button-hover-fill-color);\n",
              "  }\n",
              "\n",
              "  .colab-df-quickchart-complete:disabled,\n",
              "  .colab-df-quickchart-complete:disabled:hover {\n",
              "    background-color: var(--disabled-bg-color);\n",
              "    fill: var(--disabled-fill-color);\n",
              "    box-shadow: none;\n",
              "  }\n",
              "\n",
              "  .colab-df-spinner {\n",
              "    border: 2px solid var(--fill-color);\n",
              "    border-color: transparent;\n",
              "    border-bottom-color: var(--fill-color);\n",
              "    animation:\n",
              "      spin 1s steps(1) infinite;\n",
              "  }\n",
              "\n",
              "  @keyframes spin {\n",
              "    0% {\n",
              "      border-color: transparent;\n",
              "      border-bottom-color: var(--fill-color);\n",
              "      border-left-color: var(--fill-color);\n",
              "    }\n",
              "    20% {\n",
              "      border-color: transparent;\n",
              "      border-left-color: var(--fill-color);\n",
              "      border-top-color: var(--fill-color);\n",
              "    }\n",
              "    30% {\n",
              "      border-color: transparent;\n",
              "      border-left-color: var(--fill-color);\n",
              "      border-top-color: var(--fill-color);\n",
              "      border-right-color: var(--fill-color);\n",
              "    }\n",
              "    40% {\n",
              "      border-color: transparent;\n",
              "      border-right-color: var(--fill-color);\n",
              "      border-top-color: var(--fill-color);\n",
              "    }\n",
              "    60% {\n",
              "      border-color: transparent;\n",
              "      border-right-color: var(--fill-color);\n",
              "    }\n",
              "    80% {\n",
              "      border-color: transparent;\n",
              "      border-right-color: var(--fill-color);\n",
              "      border-bottom-color: var(--fill-color);\n",
              "    }\n",
              "    90% {\n",
              "      border-color: transparent;\n",
              "      border-bottom-color: var(--fill-color);\n",
              "    }\n",
              "  }\n",
              "</style>\n",
              "\n",
              "  <script>\n",
              "    async function quickchart(key) {\n",
              "      const quickchartButtonEl =\n",
              "        document.querySelector('#' + key + ' button');\n",
              "      quickchartButtonEl.disabled = true;  // To prevent multiple clicks.\n",
              "      quickchartButtonEl.classList.add('colab-df-spinner');\n",
              "      try {\n",
              "        const charts = await google.colab.kernel.invokeFunction(\n",
              "            'suggestCharts', [key], {});\n",
              "      } catch (error) {\n",
              "        console.error('Error during call to suggestCharts:', error);\n",
              "      }\n",
              "      quickchartButtonEl.classList.remove('colab-df-spinner');\n",
              "      quickchartButtonEl.classList.add('colab-df-quickchart-complete');\n",
              "    }\n",
              "    (() => {\n",
              "      let quickchartButtonEl =\n",
              "        document.querySelector('#df-fef0f2a6-10df-49dd-ab9d-42387e035747 button');\n",
              "      quickchartButtonEl.style.display =\n",
              "        google.colab.kernel.accessAllowed ? 'block' : 'none';\n",
              "    })();\n",
              "  </script>\n",
              "</div>\n",
              "\n",
              "    </div>\n",
              "  </div>\n"
            ],
            "application/vnd.google.colaboratory.intrinsic+json": {
              "type": "dataframe",
              "variable_name": "XDB",
              "summary": "{\n  \"name\": \"XDB\",\n  \"rows\": 21990,\n  \"fields\": [\n    {\n      \"column\": \"Business\",\n      \"properties\": {\n        \"dtype\": \"number\",\n        \"std\": 0,\n        \"min\": 0,\n        \"max\": 1,\n        \"num_unique_values\": 2,\n        \"samples\": [\n          1,\n          0\n        ],\n        \"semantic_type\": \"\",\n        \"description\": \"\"\n      }\n    },\n    {\n      \"column\": \"Age\",\n      \"properties\": {\n        \"dtype\": \"number\",\n        \"std\": 11,\n        \"min\": 21,\n        \"max\": 65,\n        \"num_unique_values\": 45,\n        \"samples\": [\n          60,\n          42\n        ],\n        \"semantic_type\": \"\",\n        \"description\": \"\"\n      }\n    },\n    {\n      \"column\": \"Female\",\n      \"properties\": {\n        \"dtype\": \"number\",\n        \"std\": 0,\n        \"min\": 0,\n        \"max\": 1,\n        \"num_unique_values\": 2,\n        \"samples\": [\n          0,\n          1\n        ],\n        \"semantic_type\": \"\",\n        \"description\": \"\"\n      }\n    },\n    {\n      \"column\": \"Years\",\n      \"properties\": {\n        \"dtype\": \"number\",\n        \"std\": 2,\n        \"min\": 1,\n        \"max\": 13,\n        \"num_unique_values\": 13,\n        \"samples\": [\n          12,\n          5\n        ],\n        \"semantic_type\": \"\",\n        \"description\": \"\"\n      }\n    },\n    {\n      \"column\": \"College\",\n      \"properties\": {\n        \"dtype\": \"number\",\n        \"std\": 0,\n        \"min\": 0,\n        \"max\": 1,\n        \"num_unique_values\": 2,\n        \"samples\": [\n          0,\n          1\n        ],\n        \"semantic_type\": \"\",\n        \"description\": \"\"\n      }\n    },\n    {\n      \"column\": \"Certificates\",\n      \"properties\": {\n        \"dtype\": \"number\",\n        \"std\": 1,\n        \"min\": 0,\n        \"max\": 6,\n        \"num_unique_values\": 7,\n        \"samples\": [\n          1,\n          4\n        ],\n        \"semantic_type\": \"\",\n        \"description\": \"\"\n      }\n    },\n    {\n      \"column\": \"Feedback\",\n      \"properties\": {\n        \"dtype\": \"number\",\n        \"std\": 0.8367702957801468,\n        \"min\": 1.08,\n        \"max\": 4.0,\n        \"num_unique_values\": 491,\n        \"samples\": [\n          1.7599999999999998,\n          1.96\n        ],\n        \"semantic_type\": \"\",\n        \"description\": \"\"\n      }\n    },\n    {\n      \"column\": \"Salary\",\n      \"properties\": {\n        \"dtype\": \"number\",\n        \"std\": 22769,\n        \"min\": 21000,\n        \"max\": 197000,\n        \"num_unique_values\": 596,\n        \"samples\": [\n          28000,\n          72600\n        ],\n        \"semantic_type\": \"\",\n        \"description\": \"\"\n      }\n    },\n    {\n      \"column\": \"NPS\",\n      \"properties\": {\n        \"dtype\": \"number\",\n        \"std\": 2,\n        \"min\": 1,\n        \"max\": 10,\n        \"num_unique_values\": 10,\n        \"samples\": [\n          2,\n          10\n        ],\n        \"semantic_type\": \"\",\n        \"description\": \"\"\n      }\n    }\n  ]\n}"
            }
          },
          "metadata": {},
          "execution_count": 2
        }
      ]
    },
    {
      "cell_type": "markdown",
      "source": [
        "**Explicación de variables**\n",
        "\n",
        "- Business: Do they work in hardware (0) or software (1)\n",
        "- Age: Age of the person\n",
        "- Female: Is it a female? Yes (1), No (0)\n",
        "- Years: Years working in the company\n",
        "- College: Did they go to College: Yes (1), No (0)\n",
        "- Certificates: Amount of certificates the employee has\n",
        "- Feedback: Employee's score from HR\n",
        "- Salary: How much the person earn\n",
        "- NPS: Net Promoter Score (customer loyalty)\n"
      ],
      "metadata": {
        "id": "juagE2rFOrqB"
      }
    },
    {
      "cell_type": "markdown",
      "source": [
        "*Implementar el modelo*"
      ],
      "metadata": {
        "id": "2nlw46CS1gig"
      }
    },
    {
      "cell_type": "code",
      "source": [
        "#arbol = arbol de decision\n",
        "arbol = DecisionTreeClassifier(criterion = 'gini', max_depth = 4)\n",
        "#max depth = profundidad del arbol es 4\n",
        "#gini = criterio que indica grado de error del modelo\n",
        "arbol.fit(XD, yd)\n",
        "\n",
        "#desplegar arbol\n",
        "#exportar\n",
        "from sklearn.tree import export_graphviz\n",
        "#crear grafico\n",
        "from pydotplus import graph_from_dot_data\n",
        "\n",
        "#etiquetar arbol\n",
        "vs = ['Business', 'Age', 'Female', 'Years', 'Certificates', 'Feedback', 'Salary', 'NPS']\n",
        "\n",
        "#dejar listo arbol para descargar\n",
        "dot_data = export_graphviz(arbol, feature_names = vs)\n",
        "grafico = graph_from_dot_data(dot_data)\n",
        "grafico.write_png('collegearbol1.png')\n"
      ],
      "metadata": {
        "colab": {
          "base_uri": "https://localhost:8080/"
        },
        "id": "ZZ6ZQsWg16lN",
        "outputId": "991db059-0a85-4a92-8c38-998c08c3581b"
      },
      "execution_count": null,
      "outputs": [
        {
          "output_type": "execute_result",
          "data": {
            "text/plain": [
              "True"
            ]
          },
          "metadata": {},
          "execution_count": 3
        }
      ]
    },
    {
      "cell_type": "markdown",
      "source": [
        "**Breve descripción del árbol**\n",
        "- En el arbol de decision hoy nay nodos puros.\n",
        "- La variable más decisiva es Feedback < = 3.4, ya que tiene un gini de 0.075.\n",
        "\n",
        "**Reglas del negocio ejemplos**\n",
        "- If Salary < = 64100, and Salary < = 47,100, and Salary < = 35,100, and Age < = 23.5, la persona no tiene título universitario. Total de datos 51, 19 tienen título (37%) y 32 no tienen (63%).\n",
        "- If Salary > 64100, and Salary > 96500, and Certificates > 4.5, and Salary > 109100, la persona si tiene título universitarioo. El total de datos es de 762, 57 no tienen título (7.4%) y 705 si tienen (92.6%)."
      ],
      "metadata": {
        "id": "9P0nqwgUf1an"
      }
    },
    {
      "cell_type": "markdown",
      "source": [
        "*Evaluar desempeño del modelo*"
      ],
      "metadata": {
        "id": "oOWwvcbo4a-g"
      }
    },
    {
      "cell_type": "code",
      "source": [
        "ydp = arbol.predict(XD)\n",
        "cm = confusion_matrix(yd, ydp)\n",
        "print(cm)\n",
        "\n",
        "#matriz de confusion con verdaderos negativos 17451 y positivos 114\n",
        "VN = cm [0][0]; FP = cm [0][1]; FN = cm [1][0]; VP = cm [1][1]\n",
        "\n",
        "#exactitud = desempeño del modelo\n",
        "exactitud = (VP + VN) / (VP + VN + FP + FN)\n",
        "print('La exactitud con la que funciona el modelo en general es = ', exactitud)\n",
        "\n",
        "#sensibilidad = como se comporta el modelo con los universitarios\n",
        "sensibilidad = VP / (VP + FN)\n",
        "print('La sensibilidad es = ', sensibilidad)\n",
        "\n",
        "#especificidad = como se comporta el modelo prediciendo los no universitarios\n",
        "especificidad = VN / (VN + FP)\n",
        "print('La especificidad es = ', especificidad)\n",
        "\n",
        "#precision = que tan preciso es el modelo clasificando universitarios\n",
        "precision = VP / (VP + FP)\n",
        "print('La precision es = ', precision)\n",
        "\n",
        "#tasa de error = cuanto se equivoca el modelo\n",
        "error = (FP + FN) / (VP + VN + FP + FN)\n",
        "print('La tasa de error es = ', error)\n",
        "\n",
        "#prediccion negativa = comportamiento del modelo identificando los no universitarios\n",
        "prediccion_negativa = VN / (VN + FN)\n",
        "print('La prediccion negativa es = ', prediccion_negativa)\n",
        "\n",
        "#prediccion positiva\n",
        "prediccion_positiva = VP / (VP + FP)\n",
        "print('La prediccion positiva es = ', prediccion_positiva)"
      ],
      "metadata": {
        "colab": {
          "base_uri": "https://localhost:8080/"
        },
        "id": "q_VVlR1b42R6",
        "outputId": "60ba3fb3-6158-4c78-cb3d-76d7f2a023e7"
      },
      "execution_count": null,
      "outputs": [
        {
          "output_type": "stream",
          "name": "stdout",
          "text": [
            "[[  114  4356]\n",
            " [   69 17451]]\n",
            "La exactitud con la que funciona el modelo en general es =  0.7987721691678036\n",
            "La sensibilidad es =  0.9960616438356165\n",
            "La especificidad es =  0.025503355704697986\n",
            "La precision es =  0.8002476269087908\n",
            "La tasa de error es =  0.20122783083219645\n",
            "La prediccion negativa es =  0.6229508196721312\n",
            "La prediccion positiva es =  0.8002476269087908\n"
          ]
        }
      ]
    },
    {
      "cell_type": "markdown",
      "source": [
        "**Descripción de resultados**\n",
        "\n",
        "Se puede observar con los resultados obtenidos del modelo, que la exactitud y sensibilidad con la que este funciona es de 79% y 99%, respectivamente. A pesar de que el modelo cuenta con una precisión de 80% para clasificar a los universitarios, este tiene una tasa de error de 2%."
      ],
      "metadata": {
        "id": "LMbRwCBGg_E8"
      }
    },
    {
      "cell_type": "markdown",
      "source": [
        "*Pronóstico*"
      ],
      "metadata": {
        "id": "BG69eHS_6Z5z"
      }
    },
    {
      "cell_type": "code",
      "source": [
        "#tomar la totalidad de los solicitantes\n",
        "XDB2 = XDB\n",
        "#revisar\n",
        "XDB2.head(4)\n",
        "\n",
        "yd2 = XDB2[['College']]\n",
        "#revisar\n",
        "yd2.head(4)\n",
        "\n",
        "#los que no tienen valores en college\n",
        "filas = np.where((np.isnan(yd2)) == False) [1]\n",
        "print(\"Filas sin informacion: \", filas)\n",
        "\n",
        "#pronostico para esas personas\n",
        "XD2 = XDB2[['Business', 'Age', 'Female', 'Years', 'Certificates', 'Feedback', 'Salary', 'NPS']]\n",
        "XD2 = XD2.iloc[filas]\n",
        "\n",
        "ydp2 = arbol.predict(XD2)\n",
        "print(\"Predicciones: \", ydp2)"
      ],
      "metadata": {
        "colab": {
          "base_uri": "https://localhost:8080/"
        },
        "id": "vDkTCgve6bsH",
        "outputId": "3fc151cf-fd74-42f7-ced4-bca6e0416ba9"
      },
      "execution_count": null,
      "outputs": [
        {
          "output_type": "stream",
          "name": "stdout",
          "text": [
            "Filas sin informacion:  [0 0 0 ... 0 0 0]\n",
            "Predicciones:  [1 1 1 ... 1 1 1]\n"
          ]
        }
      ]
    },
    {
      "cell_type": "markdown",
      "source": [
        "*Crear informe*"
      ],
      "metadata": {
        "id": "XkANrvetis6T"
      }
    },
    {
      "cell_type": "code",
      "source": [
        "dataframepro = pd.DataFrame(np.column_stack((XD2, ydp2)))\n",
        "#añadir college\n",
        "dataframepro.columns = ['Business', 'Age', 'Female', 'Years', 'Certificates', 'Feedback', 'Salary', 'NPS', 'College']\n",
        "dataframepro.head()\n",
        "dataframepro.to_excel('Informe1.xlsx')\n",
        "\n",
        "print(\"Negados pronosticados: \", len(np.where(ydp2 == 0)[0]))\n",
        "print(\"Aprobados pronosticados: \", len(np.where(ydp2 == 1)[0]))\n"
      ],
      "metadata": {
        "colab": {
          "base_uri": "https://localhost:8080/"
        },
        "id": "BjBbEZs8ipcH",
        "outputId": "ca9d28fe-96c1-4405-b7a3-ee7899d8bbf5"
      },
      "execution_count": null,
      "outputs": [
        {
          "output_type": "stream",
          "name": "stdout",
          "text": [
            "Negados pronosticados:  0\n",
            "Aprobados pronosticados:  21990\n"
          ]
        }
      ]
    },
    {
      "cell_type": "code",
      "source": [
        "#filas sin informacion en college\n",
        "filas = XDB[XDB['College'].isna()].index\n",
        "print(\"Filas sin informacion en college: \", filas)\n",
        "\n",
        "#coger las variables para predecir las filas\n",
        "XD2 = XDB.loc[filas, ['Business', 'Age', 'Female', 'Years', 'Certificates', 'Feedback', 'Salary', 'NPS']]\n",
        "XD2 = XDB[['Business', 'Age', 'Female', 'Years', 'Certificates', 'Feedback', 'Salary', 'NPS']]\n",
        "\n",
        "#prediccion modelo\n",
        "ydp2 = arbol.predict(XD2)\n",
        "\n",
        "#dataframe de pronostico con predicciones\n",
        "dataframepro = XD2.copy()\n",
        "dataframepro['CollegePrecitions'] = ydp2\n",
        "\n",
        "#guardar excel\n",
        "dataframepro.to_excel('Informe1.xlsx', index = False)\n",
        "\n",
        "#resultados de pronostico\n",
        "print(\"Negados pronosticados: \", (ydp2 == 0).sum())\n",
        "print(\"Aprobados pronosticados: \", (ydp2 == 1).sum())"
      ],
      "metadata": {
        "colab": {
          "base_uri": "https://localhost:8080/"
        },
        "id": "fufZ1Fl6mhxy",
        "outputId": "5ca35664-b769-472f-d9f8-d7c34a8c37d5"
      },
      "execution_count": null,
      "outputs": [
        {
          "output_type": "stream",
          "name": "stdout",
          "text": [
            "Filas sin informacion en college:  Index([], dtype='int64')\n",
            "Negados pronosticados:  183\n",
            "Aprobados pronosticados:  21807\n"
          ]
        }
      ]
    },
    {
      "cell_type": "code",
      "source": [
        "#prediccion\n",
        "XD2 = np.array(XDB2[['Business','Age', 'Female', 'Years', 'Certificates', 'Feedback', 'Salary', 'NPS']])\n",
        "print(XDB2)\n",
        "\n",
        "ydp2  = arbol.predict(XD2)\n",
        "print(ydp2)\n",
        "\n",
        "#resultados prediccion\n",
        "print(\"Numero de personas inscritas es: \", np.sum(ydp2))\n",
        "print(\"Nmero total de personas es: \", len(ydp2))\n",
        "print(\"Numero de personas no inscritas es: \", len(ydp2)-np.sum(ydp2))\n",
        "\n",
        "#poner en excel\n",
        "dataframepro = pd.DataFrame(np.column_stack((XD2, ydp2)))\n",
        "dataframepro.columns = ['Filas', 'Business', 'Age', 'Female', 'Years', 'Certificates', 'Feedback', 'Salary', 'NPS']\n",
        "dataframepro.head()\n",
        "dataframepro.to_excel('Informe1.xlsx')"
      ],
      "metadata": {
        "colab": {
          "base_uri": "https://localhost:8080/"
        },
        "id": "30rKm1LZl6HV",
        "outputId": "6a629c0e-33f5-4607-81fe-5196b7bfdcaf"
      },
      "execution_count": null,
      "outputs": [
        {
          "output_type": "stream",
          "name": "stdout",
          "text": [
            "       Business  Age  Female  Years  College  Certificates  Feedback  Salary  \\\n",
            "0             0   59       1      2        1             1      2.01   70200   \n",
            "1             0   52       0     10        1             4      3.64  133000   \n",
            "2             1   47       1      1        1             1      3.88   52600   \n",
            "3             0   61       0      2        1             3      2.70   96000   \n",
            "4             1   39       0      1        0             5      3.44  122000   \n",
            "...         ...  ...     ...    ...      ...           ...       ...     ...   \n",
            "21985         1   44       0      1        1             4      1.80  128000   \n",
            "21986         1   23       1      6        1             6      1.77   53400   \n",
            "21987         0   48       1      4        1             0      2.46   50400   \n",
            "21988         1   29       0      4        1             2      3.68   70000   \n",
            "21989         1   23       1      2        1             1      2.13   47400   \n",
            "\n",
            "       NPS  \n",
            "0        5  \n",
            "1       10  \n",
            "2        8  \n",
            "3        6  \n",
            "4        7  \n",
            "...    ...  \n",
            "21985    7  \n",
            "21986    8  \n",
            "21987    4  \n",
            "21988   10  \n",
            "21989    5  \n",
            "\n",
            "[21990 rows x 9 columns]\n",
            "[1 1 1 ... 1 1 1]\n",
            "Numero de personas inscritas es:  21807\n",
            "Nmero total de personas es:  21990\n",
            "Numero de personas no inscritas es:  183\n"
          ]
        },
        {
          "output_type": "stream",
          "name": "stderr",
          "text": [
            "/usr/local/lib/python3.11/dist-packages/sklearn/utils/validation.py:2739: UserWarning: X does not have valid feature names, but DecisionTreeClassifier was fitted with feature names\n",
            "  warnings.warn(\n"
          ]
        }
      ]
    },
    {
      "cell_type": "markdown",
      "source": [
        "*Pronostico*"
      ],
      "metadata": {
        "id": "CMWc76rBt6d_"
      }
    },
    {
      "cell_type": "code",
      "source": [
        "#total de solicitantes\n",
        "XDB2 = pd.read_excel(drive, sheet_name = 1)\n",
        "XDB2.head(4)\n",
        "\n",
        "#organizar hardware y software en valores numericos\n",
        "XDB2['Business'] = XDB2['Business'].map({'Hardware': 0, 'Software': 1})\n",
        "\n",
        "#crear college con valores vaciones\n",
        "XDB2['College'] = np.nan\n",
        "print(XDB2)\n",
        "\n",
        "yd2 = XDB2[['College']]\n",
        "yd2.head(4)\n",
        "\n",
        "#filas sin aprobacion\n",
        "filas = np.where((np.isnan(yd2)) == True)[0]\n",
        "print(\"Filas sin aprobacion: \", filas)\n",
        "\n",
        "#pronostico preaprobacion para estas personas\n",
        "XD2 = XDB2  [['Business', 'Age', 'Female', 'Years', 'Certificates', 'Feedback', 'Salary', 'NPS']]\n",
        "XD2 = XD2.iloc[filas,]\n",
        "ydp2 = arbol.predict(XD2)\n",
        "print(\"Predicciones: \", ydp2)\n",
        "\n",
        "#informe con preaprobacion\n",
        "dataframepro = pd.DataFrame(np.column_stack((filas, XD2, ydp2)))\n",
        "dataframepro.columns = ['Filas', 'Business', 'Age', 'Female', 'Years', 'Certificates', 'Feedback', 'Salary', 'NPS', 'College']\n",
        "dataframepro.head(4)\n",
        "dataframepro.to_excel('Informe1.xlsx')\n",
        "\n",
        "#resultados\n",
        "print(\"Negados pronosticados: \", len(np.where(ydp2 == 0)[0]))\n",
        "print(\"Aprobados pronosticados: \", len(np.where(ydp2 == 1)[0]))"
      ],
      "metadata": {
        "colab": {
          "base_uri": "https://localhost:8080/"
        },
        "id": "vW4mBWzRt7qW",
        "outputId": "1360beb1-2803-4d33-9351-d69825574164"
      },
      "execution_count": null,
      "outputs": [
        {
          "output_type": "stream",
          "name": "stdout",
          "text": [
            "    Sales_Rep  Business  Age  Female  Years Personality  Certificates  \\\n",
            "0           1         0   63       0      2    Sentinel             5   \n",
            "1           2         1   38       1      2    Diplomat             4   \n",
            "2           3         1   47       0      1     Analyst             2   \n",
            "3           4         1   25       0      1    Explorer             2   \n",
            "4           5         0   49       0     10    Explorer             4   \n",
            "5           6         1   48       0      1    Diplomat             1   \n",
            "6           7         1   25       1      1    Explorer             6   \n",
            "7           8         0   39       0      1    Diplomat             2   \n",
            "8           9         1   29       0      1    Explorer             5   \n",
            "9          10         1   45       1      3    Diplomat             3   \n",
            "10         11         0   35       0      6    Diplomat             1   \n",
            "11         12         0   30       0      4    Diplomat             2   \n",
            "12         13         1   28       0      1     Analyst             6   \n",
            "13         14         0   41       0      1    Sentinel             4   \n",
            "14         15         1   51       1      2    Diplomat             3   \n",
            "15         16         0   56       0      9    Diplomat             1   \n",
            "\n",
            "    Feedback  Salary  NPS  College  \n",
            "0       3.49  133000    8      NaN  \n",
            "1       3.33   80400    6      NaN  \n",
            "2       2.12   57000    7      NaN  \n",
            "3       2.89   79000    7      NaN  \n",
            "4       2.52  127000    6      NaN  \n",
            "5       3.35   62000    6      NaN  \n",
            "6       1.16   74000    7      NaN  \n",
            "7       2.12  112000    5      NaN  \n",
            "8       2.74   78000    8      NaN  \n",
            "9       2.90   74000    7      NaN  \n",
            "10      3.79   90000    8      NaN  \n",
            "11      2.50   69000    8      NaN  \n",
            "12      1.50   63000    6      NaN  \n",
            "13      1.35   51000    4      NaN  \n",
            "14      2.95   80800   10      NaN  \n",
            "15      3.28   68000    4      NaN  \n",
            "Filas sin aprobacion:  [ 0  1  2  3  4  5  6  7  8  9 10 11 12 13 14 15]\n",
            "Predicciones:  [1 1 1 1 1 1 1 1 1 1 1 1 1 1 1 1]\n",
            "Negados pronosticados:  0\n",
            "Aprobados pronosticados:  16\n"
          ]
        }
      ]
    },
    {
      "cell_type": "markdown",
      "source": [
        "# **Análisis de resultados**\n",
        "\n",
        "Para la implementación del modelo de arbol de decisión, se tomaron un total de 9 variables, 8 variables socioeconómicas de entrada en las que se destacan negocios, edad, femenino, años, certificados, retroalimentación, salario y NPS; y una variable de salida que le permite evaluar si un empleado tiene título universitario o no.\n",
        "\n",
        "Para la construccion del modelo se tuvieron un total de 21,990 datos divididos en 4,470 que no tienen título universitario y un total de 17,420 que si tienen. Luego de la ejecución del modelo se logro una exactitud cercana al 79% en promedio, lo que esta por encima del 75% frente a la exactitud, lo que indica la calidad del modelo en el pronostico.\n",
        "\n",
        "Es importante destacar que el coeficiente de sensibilidad estuvo por encima del 60% (99%) mientras que la prediccion negativa se ubico igualmente por encima del 60% (62%), lo que corrobora el buen funcionamiento general del modelo.\n",
        "\n",
        "La base de datos completa posee un total de 928 personas sin título universitario. Luego de la construccion del modelo, se procedio con el pronostico del valor de título universitario de las personas. Luego se logro un informe de estas personas en donde un total de 923 (99%) no tienen título universitario y un total de 5 si tienen título (1%)."
      ],
      "metadata": {
        "id": "dvSlFXnExGDB"
      }
    },
    {
      "cell_type": "markdown",
      "source": [
        "# **Cuestionario**\n",
        "\n"
      ],
      "metadata": {
        "id": "HR4RS1lOeAJ5"
      }
    },
    {
      "cell_type": "code",
      "source": [
        "#pregunta 1\n",
        "#determinar la cantidad total de datos usados en el modelo\n",
        "datos = print(f\"Cantidad de datos utilizados: {XDB.shape[0]}\")\n",
        "#intervalo de 20,000 a 22,000 (21,990)\n",
        "\n",
        "#pregunta 2\n",
        "#intervalo en el cual se encuentra el número de personas que no poseen título universitario IF Salario<=64100 and Salary>47100 and Age>39.5 and Certificates<=1.5\n",
        "#segun el arbol de decision son 356 no tienen titulo y 1,048 si tienen.\n",
        "#intervalo de 350 a 400\n",
        "\n",
        "#pregunta 3\n",
        "#cantidad de nodos puros\n",
        "#en el modelo no hay nodos puros\n",
        "#intervalo de 0 a 5\n",
        "\n",
        "#pregunta 4\n",
        "#intervalo con titulo pronosticado de yes\n",
        "print(\"Aprobados pronosticados: \", len(np.where(ydp2 == 1)[0]))\n",
        "#intervalo de 15 a 20 (16)\n",
        "\n",
        "#pregunta 5\n",
        "#intervalo de especificidad\n",
        "especificidad = VN / (VN + FP)\n",
        "print('La especificidad es = ', especificidad)\n",
        "#intervalo de 0 a 5 (2.5%)\n",
        "\n",
        "#pregunta 6\n",
        "#intervalo de verdaderos negativos\n",
        "VN = cm [0][0]\n",
        "VN\n",
        "#intervalo de 100 a 120 (114)\n",
        "\n",
        "#pregunta 7\n",
        "#intervalo de exactitud\n",
        "exactitud = (VP + VN) / (VP + VN + FP + FN)\n",
        "print('La exactitud con la que funciona el modelo en general es = ', exactitud)\n",
        "#intervalo de 75 a 80 (79%)\n",
        "\n",
        "#pregunta 8\n",
        "#verdaderos positivos\n",
        "VP = cm [1][1]\n",
        "VP\n",
        "#intervalo de 17,000 a 17,500 (17,451)\n",
        "\n",
        "#pregunta 9\n",
        "#intervalo precision\n",
        "precision = VP / (VP + FP)\n",
        "print('La precision es = ', precision)\n",
        "#intervalo de 80 a 85 (80%)\n",
        "\n",
        "#pregunta 10\n",
        "#personas que poseen un titulo universitario para la siguiente regla IF Salario<=64100 and Salary>47100 and Age>39.5 and Certificates>1.5\n",
        "#segu el arbol de decision 986 personas si tienen titulo\n",
        "#intervalo de 950 a 1000 (986)"
      ],
      "metadata": {
        "colab": {
          "base_uri": "https://localhost:8080/"
        },
        "id": "hmKy10jIfMI9",
        "outputId": "ac359ded-f230-403e-f5df-32b7df9c13b4"
      },
      "execution_count": null,
      "outputs": [
        {
          "output_type": "stream",
          "name": "stdout",
          "text": [
            "Cantidad de datos utilizados: 21990\n",
            "Aprobados pronosticados:  16\n",
            "La especificidad es =  0.025503355704697986\n",
            "La exactitud con la que funciona el modelo en general es =  0.7987721691678036\n",
            "La precision es =  0.8002476269087908\n"
          ]
        }
      ]
    }
  ]
}